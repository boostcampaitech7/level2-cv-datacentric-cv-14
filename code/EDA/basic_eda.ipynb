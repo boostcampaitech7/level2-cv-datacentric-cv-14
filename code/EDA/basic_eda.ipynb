{
 "cells": [
  {
   "cell_type": "code",
   "execution_count": 3,
   "metadata": {},
   "outputs": [
    {
     "name": "stdout",
     "output_type": "stream",
     "text": [
      "이미지당 평균 bbox 개수: 59.31\n"
     ]
    }
   ],
   "source": [
    "import json\n",
    "\n",
    "# UFO 파일 로드\n",
    "with open('../../../../data/chinese_receipt/ufo/train.json', 'r', encoding='utf-8') as f:\n",
    "    ufo_data = json.load(f)\n",
    "\n",
    "# 이미지별 bbox 개수 계산\n",
    "bbox_counts = []\n",
    "for img_name, img_info in ufo_data['images'].items():\n",
    "    bbox_count = len(img_info['words'])\n",
    "    bbox_counts.append(bbox_count)\n",
    "\n",
    "# 평균 bbox 개수 계산\n",
    "avg_bbox_count = sum(bbox_counts) / len(bbox_counts)\n",
    "\n",
    "print(f'이미지당 평균 bbox 개수: {avg_bbox_count:.2f}')\n"
   ]
  },
  {
   "cell_type": "code",
   "execution_count": null,
   "metadata": {},
   "outputs": [],
   "source": []
  }
 ],
 "metadata": {
  "kernelspec": {
   "display_name": "base",
   "language": "python",
   "name": "python3"
  },
  "language_info": {
   "codemirror_mode": {
    "name": "ipython",
    "version": 3
   },
   "file_extension": ".py",
   "mimetype": "text/x-python",
   "name": "python",
   "nbconvert_exporter": "python",
   "pygments_lexer": "ipython3",
   "version": "3.10.13"
  }
 },
 "nbformat": 4,
 "nbformat_minor": 2
}
