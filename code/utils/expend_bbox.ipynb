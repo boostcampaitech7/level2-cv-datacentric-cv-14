{
 "cells": [
  {
   "cell_type": "code",
   "execution_count": 3,
   "metadata": {},
   "outputs": [],
   "source": [
    "import json"
   ]
  },
  {
   "cell_type": "code",
   "execution_count": 4,
   "metadata": {},
   "outputs": [],
   "source": [
    "def expand_bbox(input_path, output_path, expand_ratio=0.1):\n",
    "    # JSON 파일 읽기\n",
    "    with open(input_path, 'r', encoding='utf-8') as f:\n",
    "        data = json.load(f)\n",
    "\n",
    "    # 각 bbox의 양옆을 확장\n",
    "    for image_key, image_data in data[\"images\"].items():\n",
    "        for word_key, word_data in image_data[\"words\"].items():\n",
    "            points = word_data[\"points\"]\n",
    "\n",
    "            # x좌표 및 y좌표의 최소, 최대값 계산\n",
    "            x_min = min(point[0] for point in points)\n",
    "            x_max = max(point[0] for point in points)\n",
    "            y_min = min(point[1] for point in points)\n",
    "            y_max = max(point[1] for point in points)\n",
    "\n",
    "            # bbox의 높이와 양옆 확장량 계산\n",
    "            height = y_max - y_min\n",
    "            expand_amount = height * expand_ratio\n",
    "\n",
    "            # 좌우로 확장하여 새로운 좌표 계산\n",
    "            new_points = [\n",
    "                [x_min - expand_amount, points[0][1]],  # 좌상단\n",
    "                [x_max + expand_amount, points[1][1]],  # 우상단\n",
    "                [x_max + expand_amount, points[2][1]],  # 우하단\n",
    "                [x_min - expand_amount, points[3][1]]   # 좌하단\n",
    "            ]\n",
    "            \n",
    "            # 확장된 좌표 업데이트\n",
    "            word_data[\"points\"] = new_points\n",
    "\n",
    "    # 수정된 JSON 데이터를 새 파일로 저장\n",
    "    with open(output_path, 'w', encoding='utf-8') as f:\n",
    "        json.dump(data, f, indent=4, ensure_ascii=False)\n",
    "\n",
    "# 예시 경로\n",
    "input_path = '/data/ephemeral/home/SY/cv14/code/predictions/output_8905.csv'\n",
    "output_path = '/data/ephemeral/home/SY/cv14/code/predictions/expanded_output_8905.json'\n",
    "\n",
    "expand_bbox(input_path, output_path)\n"
   ]
  }
 ],
 "metadata": {
  "kernelspec": {
   "display_name": "base",
   "language": "python",
   "name": "python3"
  },
  "language_info": {
   "codemirror_mode": {
    "name": "ipython",
    "version": 3
   },
   "file_extension": ".py",
   "mimetype": "text/x-python",
   "name": "python",
   "nbconvert_exporter": "python",
   "pygments_lexer": "ipython3",
   "version": "3.10.13"
  }
 },
 "nbformat": 4,
 "nbformat_minor": 2
}
